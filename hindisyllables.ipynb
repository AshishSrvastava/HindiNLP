{
 "cells": [
  {
   "cell_type": "code",
   "execution_count": 3,
   "metadata": {},
   "outputs": [],
   "source": [
    "# Referenced from https://pandey.github.io/posts/tokenize-indic-syllables-python.html\n",
    "\n",
    "# suggested\n",
    "\n",
    "# vowels = '\\u0904-\\u0914\\u0960-\\u0961\\u0972-\\u0977'\n",
    "# consonants = '\\u0915-\\u0939\\u0958-\\u095F\\u0978-\\u097C\\u097E-\\u097F' \n",
    "# glottal = '\\u097D' \n",
    "# vowel_signs = '\\u093E-\\u094C\\u093A-\\u093B\\u094E-\\u094F\\u0955-\\u0957\\u1CF8-\\u1CF9' \n",
    "# nasals = '\\u0900-\\u0902\\u1CF2-\\u1CF6' \n",
    "# visarga = '\\u0903' \n",
    "# nukta = '\\u093C' \n",
    "# avagraha = '\\u093D' \n",
    "# virama = '\\u094D' \n",
    "# vedic_signs = '\\u0951-\\u0952\\u1CD0-\\u1CE1\\u1CED' \n",
    "# visarga_modifiers = '\\u1CE2-\\u1CE8' \n",
    "# combining = '\\uA8E0-\\uA8F1' \n",
    "# om = '\\u0950' \n",
    "# accents = '\\u0953-\\u0954' \n",
    "# dandas = '\\u0964-\\u0965' \n",
    "# digits = ['\\u0966-\\u096F'] \n",
    "# abbreviation = '\\u0970' \n",
    "# spacing = '\\u0971' \n",
    "# vedic_nasals = '\\uA8F2-\\uA8F7\\u1CE9-\\u1CEC\\u1CEE-\\u1CF1' \n",
    "# fillers = '\\uA8F8-\\uA8F9' \n",
    "# caret = '\\uA8FA' \n",
    "# headstroke = '\\uA8FB' \n",
    "# space = '\\u0020' \n",
    "# joiners = '\\u200C-\\u200D'"
   ]
  },
  {
   "cell_type": "markdown",
   "metadata": {},
   "source": [
    "![devanagari Table](DevanagariTable.png)"
   ]
  },
  {
   "cell_type": "code",
   "execution_count": 4,
   "metadata": {},
   "outputs": [],
   "source": [
    "import re"
   ]
  },
  {
   "cell_type": "code",
   "execution_count": 5,
   "metadata": {},
   "outputs": [
    {
     "data": {
      "text/plain": [
       "8"
      ]
     },
     "execution_count": 5,
     "metadata": {},
     "output_type": "execute_result"
    }
   ],
   "source": [
    "len('देवनागरी')"
   ]
  },
  {
   "cell_type": "code",
   "execution_count": 6,
   "metadata": {},
   "outputs": [
    {
     "data": {
      "text/plain": [
       "['द', 'े', 'व', 'न', 'ा', 'ग', 'र', 'ी']"
      ]
     },
     "execution_count": 6,
     "metadata": {},
     "output_type": "execute_result"
    }
   ],
   "source": [
    "list('देवनागरी')\n",
    "# but we want it to read as\n",
    "# ['दे', 'व', 'ना', 'ग', 'री']"
   ]
  },
  {
   "cell_type": "code",
   "execution_count": 7,
   "metadata": {},
   "outputs": [],
   "source": [
    "vowels = '\\u0904-\\u0914\\u0972-\\u0977'\n",
    "consonants = '\\u0915-\\u0939\\u0958-\\u095F' \n",
    "matras = '\\u093E-\\u094C' \n",
    "nasals = '\\u0900-\\u0902' \n",
    "visarga = '\\u0903'\n",
    "nukta = '\\u093C'\n",
    "virama = '\\u094D'\n",
    "om = '\\u0950'\n",
    "dandas = '\\u0964-\\u0965' \n",
    "numbers = '\\u0966-\\u096F' \n",
    "space = '\\u0020' \n",
    "joiners = '\\u200C-\\u200D'"
   ]
  },
  {
   "cell_type": "code",
   "execution_count": 9,
   "metadata": {},
   "outputs": [
    {
     "name": "stdout",
     "output_type": "stream",
     "text": [
      "ह \n",
      "ल \n",
      "न \n",
      "् \n",
      "त \n"
     ]
    },
    {
     "data": {
      "text/plain": [
       "['ह', 'ल', 'न', '्', 'त']"
      ]
     },
     "execution_count": 9,
     "metadata": {},
     "output_type": "execute_result"
    }
   ],
   "source": [
    "def get_words(text):\n",
    "    pass\n",
    "\n",
    "def get_syllables(word):\n",
    "    # \n",
    "    syllables = []\n",
    "    # buffer \n",
    "    buffer = \"\"\n",
    "    \n",
    "    for char in word:\n",
    "        print(char, buffer)\n",
    "        # match any words that either begin with vowels or om\n",
    "        if re.match('[' + vowels + om + ']', char): \n",
    "            # if the buffer string is empty, add the string, otherwise the first character\n",
    "            # is complete so add it to the syllables list\n",
    "            if buffer != \"\":\n",
    "                syllables.append(char)\n",
    "            else:\n",
    "                buffer = char\n",
    "        # match any words that begin with a consonant\n",
    "        elif re.match('[' + consonants + ']', char): \n",
    "            # if buffer exists and last character is not virama (्), append buffer string as syllable\n",
    "            # otherwise add present consonant to buffer string \n",
    "            if len(buffer) > 0 and buffer[-1] != virama: \n",
    "                syllables.append(buffer) \n",
    "                buffer = char \n",
    "            else: \n",
    "                buffer = buffer + char \n",
    "        elif re.match('[' + nukta + ']', char): \n",
    "            buffer = buffer + char \n",
    "        elif re.match('[' + virama + ']', char): \n",
    "            buffer = buffer + char \n",
    "        elif re.match('[' + joiners + ']', char): \n",
    "            buffer = buffer + char \n",
    "        else:\n",
    "            pass\n",
    "        if buffer != '': \n",
    "            syllables.append(buffer) \n",
    "            buffer = '' \n",
    "    return syllables\n",
    "        \n",
    "get_syllables('हलन्त')"
   ]
  },
  {
   "cell_type": "code",
   "execution_count": 10,
   "metadata": {},
   "outputs": [
    {
     "name": "stdout",
     "output_type": "stream",
     "text": [
      "ह\n",
      "ल\n",
      "न\n",
      "्\n",
      "त\n"
     ]
    }
   ],
   "source": [
    "for char in \"हलन्त\":\n",
    "    print(char)"
   ]
  },
  {
   "cell_type": "code",
   "execution_count": 11,
   "metadata": {},
   "outputs": [
    {
     "data": {
      "text/plain": [
       "['ह']"
      ]
     },
     "execution_count": 11,
     "metadata": {},
     "output_type": "execute_result"
    }
   ],
   "source": [
    "def syllabify(inputtext): \n",
    "    syllables = [] \n",
    "    curr = '' \n",
    "    # iterate over each character in the input. if a char belongs to a \n",
    "    # class that can be part of a syllable, then add it to the curr \n",
    "    # buffer. otherwise, output it to syllables[] right away. \n",
    "    for char in inputtext: \n",
    "        if re.match('[' + vowels + om + ']', char): \n",
    "            # need to handle non-initial independent vowel letters, \n",
    "            # avagraha, and om \n",
    "            if curr != '': \n",
    "                syllables.append(curr) \n",
    "                curr = char \n",
    "            else: \n",
    "                curr = curr + char \n",
    "        elif re.match('[' + consonants + ']', char): \n",
    "            # if last in curr is not virama, output curr as syllable \n",
    "            # # else add present consonant to curr \n",
    "            if len(curr) > 0 and curr[-1] != virama: \n",
    "                syllables.append(curr) \n",
    "                curr = char \n",
    "            else: \n",
    "                curr = curr + char \n",
    "        elif re.match('[' + vowel_signs + visarga + vedic_signs + ']', char): \n",
    "            curr = curr + char\n",
    "        elif re.match('[' + visarga_modifiers + ']', char): \n",
    "            if len(curr) > 0 and curr[-1] == visarga: \n",
    "                curr = curr + char \n",
    "                syllables.append(curr) \n",
    "                curr = '' \n",
    "            else: \n",
    "                syllables.append(curr) \n",
    "                curr = '' \n",
    "        elif re.match('[' + nasals + vedic_nasals + ']', char): \n",
    "            # if last in curr is a vowel sign, output curr as syllable \n",
    "            # else add present vowel modifier to curr and output as syllable \n",
    "            vowelsign = re.match('[' + vowel_signs + ']$', curr) \n",
    "            if vowelsign: \n",
    "                syllables.append(curr) \n",
    "                curr = '' \n",
    "            else: \n",
    "                curr = curr + char \n",
    "                syllables.append(curr) \n",
    "                curr = '' \n",
    "        elif re.match('[' + nukta + ']', char): \n",
    "            curr = curr + char \n",
    "        elif re.match('[' + virama + ']', char): \n",
    "            curr = curr + char \n",
    "        elif re.match('[' + digits + ']', char): \n",
    "            curr = curr + char \n",
    "        elif re.match('[' + fillers + headstroke + ']', char): \n",
    "            syllables.append(char) \n",
    "        elif re.match('[' + joiners + ']', char): \n",
    "            curr = curr + char \n",
    "        else: \n",
    "            pass \n",
    "        #print (\"unhandled: \" + char + \" \", char.encode('unicode_escape')) \n",
    "        # handle remaining curr \n",
    "        if curr != '': \n",
    "            syllables.append(curr) \n",
    "            curr = '' \n",
    "        # return each syllable as item in a list \n",
    "        return syllables\n",
    "syllabify('हलन्त')"
   ]
  },
  {
   "cell_type": "code",
   "execution_count": null,
   "metadata": {},
   "outputs": [],
   "source": []
  }
 ],
 "metadata": {
  "interpreter": {
   "hash": "8afb38f0637aff7711d2bfad409bbd2e4ad7f3e9a2b2228439971e93b63e546a"
  },
  "kernelspec": {
   "display_name": "Python 3.9.12 ('HindiNLP')",
   "language": "python",
   "name": "python3"
  },
  "language_info": {
   "codemirror_mode": {
    "name": "ipython",
    "version": 3
   },
   "file_extension": ".py",
   "mimetype": "text/x-python",
   "name": "python",
   "nbconvert_exporter": "python",
   "pygments_lexer": "ipython3",
   "version": "3.9.12"
  },
  "orig_nbformat": 4
 },
 "nbformat": 4,
 "nbformat_minor": 2
}
