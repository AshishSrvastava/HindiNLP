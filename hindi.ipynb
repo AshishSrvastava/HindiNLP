{
 "cells": [
  {
   "cell_type": "code",
   "execution_count": 9,
   "metadata": {},
   "outputs": [],
   "source": [
    "words_list = []\n",
    "with open(\"hindi.txt\", \"r\") as file:\n",
    "    for line in file:\n",
    "        words = line.split(\" \")\n"
   ]
  },
  {
   "cell_type": "code",
   "execution_count": 20,
   "metadata": {},
   "outputs": [
    {
     "data": {
      "text/plain": [
       "['',\n",
       " '',\n",
       " '',\n",
       " '',\n",
       " 'अपनी',\n",
       " 'अपने',\n",
       " 'अब',\n",
       " 'अब',\n",
       " 'आइडिया',\n",
       " 'आया',\n",
       " 'आराम',\n",
       " 'उसने',\n",
       " 'उसमें',\n",
       " 'उसे',\n",
       " 'कर',\n",
       " 'कर',\n",
       " 'करता',\n",
       " 'करने',\n",
       " 'का',\n",
       " 'का',\n",
       " 'किसी',\n",
       " 'की',\n",
       " 'के',\n",
       " 'के',\n",
       " 'को',\n",
       " 'को',\n",
       " 'कोशिश',\n",
       " 'खोलने',\n",
       " 'गया।',\n",
       " 'गीली',\n",
       " 'गोलू',\n",
       " 'घुसता।',\n",
       " 'घुसाने',\n",
       " 'चढ़ा',\n",
       " 'चाट-चाट',\n",
       " 'चूहा',\n",
       " 'चूहा',\n",
       " 'चूहे',\n",
       " 'चूहे',\n",
       " 'छोटा',\n",
       " 'जा',\n",
       " 'जाता',\n",
       " 'जाती',\n",
       " 'डाली।',\n",
       " 'ढक्कन',\n",
       " 'तकिए',\n",
       " 'तरह',\n",
       " 'था',\n",
       " 'नहीं',\n",
       " 'नीचे',\n",
       " 'पर',\n",
       " 'पर',\n",
       " 'पूंछ',\n",
       " 'पूंछ',\n",
       " 'पेट',\n",
       " 'फिर',\n",
       " 'बने',\n",
       " 'बिस्तर',\n",
       " 'बोतल',\n",
       " 'बोतल',\n",
       " 'बोतल',\n",
       " 'भर',\n",
       " 'मुंह',\n",
       " 'मुंह',\n",
       " 'मुंह',\n",
       " 'में',\n",
       " 'में',\n",
       " 'लगा।',\n",
       " 'वह',\n",
       " 'शरबत',\n",
       " 'सफल',\n",
       " 'से',\n",
       " 'से',\n",
       " 'से',\n",
       " 'है',\n",
       " 'है।',\n",
       " 'है।',\n",
       " 'हो',\n",
       " 'हो']"
      ]
     },
     "execution_count": 20,
     "metadata": {},
     "output_type": "execute_result"
    }
   ],
   "source": [
    "words.sort()\n",
    "ord_list = []\n",
    "words\n"
   ]
  },
  {
   "cell_type": "code",
   "execution_count": 15,
   "metadata": {},
   "outputs": [
    {
     "data": {
      "text/plain": [
       "['A', 'A', 'B', 'C', 'D']"
      ]
     },
     "execution_count": 15,
     "metadata": {},
     "output_type": "execute_result"
    }
   ],
   "source": [
    "list2 = [\"A\", \"B\", \"C\", \"A\", \"D\" ]\n",
    "list2.sort()\n",
    "list2"
   ]
  },
  {
   "cell_type": "code",
   "execution_count": 21,
   "metadata": {},
   "outputs": [],
   "source": [
    "new_list = ['अपनी',\n",
    " 'अपने',\n",
    " 'अब',\n",
    " 'अब',\n",
    " 'आइडिया',\n",
    " 'आया',\n",
    " 'आराम',\n",
    " 'उसने',\n",
    " 'उसमें',\n",
    " 'उसे',\n",
    " 'कर',\n",
    " 'कर',\n",
    " 'करता',\n",
    " 'करने',\n",
    " 'का',\n",
    " 'का',\n",
    " 'किसी',\n",
    " 'की',\n",
    " 'के',\n",
    " 'के',\n",
    " 'को',\n",
    " 'को',\n",
    " 'कोशिश',\n",
    " 'खोलने',\n",
    " 'गया।',\n",
    " 'गीली',\n",
    " 'गोलू',\n",
    " 'घुसता।']"
   ]
  },
  {
   "cell_type": "code",
   "execution_count": 23,
   "metadata": {},
   "outputs": [
    {
     "name": "stdout",
     "output_type": "stream",
     "text": [
      "अपनी: [2309, 2346, 2344, 2368]\n",
      "अपने: [2309, 2346, 2344, 2375]\n",
      "अब: [2309, 2348]\n",
      "अब: [2309, 2348]\n",
      "आइडिया: [2310, 2311, 2337, 2367, 2351, 2366]\n",
      "आया: [2310, 2351, 2366]\n",
      "आराम: [2310, 2352, 2366, 2350]\n",
      "उसने: [2313, 2360, 2344, 2375]\n",
      "उसमें: [2313, 2360, 2350, 2375, 2306]\n",
      "उसे: [2313, 2360, 2375]\n",
      "कर: [2325, 2352]\n",
      "कर: [2325, 2352]\n",
      "करता: [2325, 2352, 2340, 2366]\n",
      "करने: [2325, 2352, 2344, 2375]\n",
      "का: [2325, 2366]\n",
      "का: [2325, 2366]\n",
      "किसी: [2325, 2367, 2360, 2368]\n",
      "की: [2325, 2368]\n",
      "के: [2325, 2375]\n",
      "के: [2325, 2375]\n",
      "को: [2325, 2379]\n",
      "को: [2325, 2379]\n",
      "कोशिश: [2325, 2379, 2358, 2367, 2358]\n",
      "खोलने: [2326, 2379, 2354, 2344, 2375]\n",
      "गया।: [2327, 2351, 2366, 2404]\n",
      "गीली: [2327, 2368, 2354, 2368]\n",
      "गोलू: [2327, 2379, 2354, 2370]\n",
      "घुसता।: [2328, 2369, 2360, 2340, 2366, 2404]\n"
     ]
    }
   ],
   "source": [
    "for word in new_list:\n",
    "    word_ords = []\n",
    "    for char in word:\n",
    "        word_ords.append(ord(char))\n",
    "    print(f\"{word}: {word_ords}\")"
   ]
  },
  {
   "cell_type": "code",
   "execution_count": 27,
   "metadata": {},
   "outputs": [
    {
     "name": "stdout",
     "output_type": "stream",
     "text": [
      "प: 2346\n",
      "र: 2352\n",
      "्: 2381\n",
      "व: 2357\n",
      "त: 2340\n"
     ]
    }
   ],
   "source": [
    "# वर्ड = \"क्रूर\"\n",
    "word ='पर्वत'\n",
    "for char in word:\n",
    "    print(f\"{char}: {ord(char)}\")"
   ]
  },
  {
   "cell_type": "code",
   "execution_count": 31,
   "metadata": {},
   "outputs": [
    {
     "name": "stdout",
     "output_type": "stream",
     "text": [
      "12\n",
      "प: 2346\n",
      "्: 2381\n",
      "र: 2352\n",
      "ौ: 2380\n",
      "द: 2342\n",
      "्: 2381\n",
      "य: 2351\n",
      "ो: 2379\n",
      "ग: 2327\n",
      "ि: 2367\n",
      "क: 2325\n",
      "ी: 2368\n"
     ]
    }
   ],
   "source": [
    "word = 'प्रौद्योगिकी'\n",
    "print(len(word))\n",
    "for char in word:\n",
    "    print(f\"{char}: {ord(char)}\")"
   ]
  },
  {
   "cell_type": "code",
   "execution_count": 32,
   "metadata": {},
   "outputs": [],
   "source": [
    "# import the modules necessary for using BeautifulSoup with web-based sources\n",
    "import requests\n",
    "import numpy as np\n",
    "import pandas as pd\n",
    "from bs4 import BeautifulSoup"
   ]
  },
  {
   "cell_type": "code",
   "execution_count": 44,
   "metadata": {},
   "outputs": [],
   "source": [
    "hindi_HTML = requests.get(\"https://gyanbaksa.com/common-hindi-words/\").text\n",
    "hindi_Soup = BeautifulSoup(hindi_HTML, \"html.parser\")\n",
    "tableHTML = hindi_Soup.find_all(\"tbody\")"
   ]
  },
  {
   "cell_type": "code",
   "execution_count": 56,
   "metadata": {},
   "outputs": [],
   "source": [
    "table_list = tableHTML[0].find_all(\"td\")\n",
    "hindi_word_list = []\n",
    "for word in table_list:\n",
    "    hindi_word_list.append(word.text)\n",
    "    \n",
    "hindi_word_list.sort()\n",
    "hindi_words = hindi_word_list[2097:]"
   ]
  },
  {
   "cell_type": "code",
   "execution_count": 57,
   "metadata": {},
   "outputs": [],
   "source": [
    "import numpy as np\n",
    "np.savetxt(\"words.csv\", hindi_words, delimiter=\", \", fmt=\"% s\")"
   ]
  },
  {
   "cell_type": "code",
   "execution_count": null,
   "metadata": {},
   "outputs": [],
   "source": []
  }
 ],
 "metadata": {
  "interpreter": {
   "hash": "40d3a090f54c6569ab1632332b64b2c03c39dcf918b08424e98f38b5ae0af88f"
  },
  "kernelspec": {
   "display_name": "Python 3.9.7 ('base')",
   "language": "python",
   "name": "python3"
  },
  "language_info": {
   "codemirror_mode": {
    "name": "ipython",
    "version": 3
   },
   "file_extension": ".py",
   "mimetype": "text/x-python",
   "name": "python",
   "nbconvert_exporter": "python",
   "pygments_lexer": "ipython3",
   "version": "3.9.7"
  },
  "orig_nbformat": 4
 },
 "nbformat": 4,
 "nbformat_minor": 2
}
